{
 "cells": [
  {
   "cell_type": "code",
   "execution_count": null,
   "metadata": {},
   "outputs": [
    {
     "ename": "",
     "evalue": "",
     "output_type": "error",
     "traceback": [
      "\u001b[1;31mRunning cells with 'Python 3.12.3' requires the ipykernel package.\n",
      "\u001b[1;31mRun the following command to install 'ipykernel' into the Python environment. \n",
      "\u001b[1;31mCommand: '/usr/bin/python3 -m pip install ipykernel -U --user --force-reinstall'"
     ]
    }
   ],
   "source": [
    "#pandas data frame? only right way to deal with data in python?\n",
    "#pandas as pd \n",
    "# ctrl + I for github copilot once i sign in\n",
    "\n",
    "# reading in a csv file\n",
    "\n",
    "df = pd.read_csv('stuff.csv')\n",
    "print(df.head()) #print df for all of it. '.head()' defaults to first 5 things\n",
    "\n",
    "#doesnt run, not sure whats wrong with it\n",
    "\n",
    "#medium.com pandas 101 dataframe? maybe look online for the link she was using\n"
   ]
  }
 ],
 "metadata": {
  "kernelspec": {
   "display_name": "Python 3",
   "language": "python",
   "name": "python3"
  },
  "language_info": {
   "name": "python",
   "version": "3.12.3"
  }
 },
 "nbformat": 4,
 "nbformat_minor": 2
}
